{
 "cells": [
  {
   "cell_type": "code",
   "execution_count": 3,
   "metadata": {
    "id": "ixSn7BvREUbk"
   },
   "outputs": [],
   "source": [
    "!mkdir -p ~/.kaggle\n",
    "!cp kaggle.json ~/.kaggle/ "
   ]
  },
  {
   "cell_type": "code",
   "execution_count": 4,
   "metadata": {
    "id": "wB3gfs0qFCpS"
   },
   "outputs": [],
   "source": [
    "! chmod 600 ~/.kaggle/kaggle.json "
   ]
  },
  {
   "cell_type": "code",
   "execution_count": 5,
   "metadata": {
    "colab": {
     "base_uri": "https://localhost:8080/"
    },
    "id": "L-CRtYObFQa2",
    "outputId": "819a5adb-05a8-491b-d950-42b5476dfc06"
   },
   "outputs": [
    {
     "name": "stdout",
     "output_type": "stream",
     "text": [
      "Downloading covid19-image-dataset.zip to /content\n",
      " 99% 156M/158M [00:07<00:00, 25.2MB/s]\n",
      "100% 158M/158M [00:07<00:00, 21.8MB/s]\n"
     ]
    }
   ],
   "source": [
    "!kaggle datasets download -d pranavraikokte/covid19-image-dataset"
   ]
  },
  {
   "cell_type": "code",
   "execution_count": 6,
   "metadata": {
    "id": "srgW0_GXFgeu"
   },
   "outputs": [],
   "source": [
    "import zipfile\n",
    "zip_ref = zipfile.ZipFile('/content/covid19-image-dataset.zip', 'r')\n",
    "zip_ref.extractall('/content')\n",
    "zip_ref.close() "
   ]
  },
  {
   "cell_type": "code",
   "execution_count": 7,
   "metadata": {
    "id": "hPT6ra7nFrFk"
   },
   "outputs": [],
   "source": [
    "import numpy as np \n",
    "import pandas as pd \n",
    "import random\n",
    "import tensorflow as tf\n",
    "import os , cv2 \n",
    "import matplotlib.pyplot as plt\n",
    "from sklearn.metrics import classification_report,confusion_matrix\n",
    "import keras \n",
    "from keras.models import Sequential"
   ]
  },
  {
   "cell_type": "code",
   "execution_count": 28,
   "metadata": {
    "colab": {
     "base_uri": "https://localhost:8080/"
    },
    "id": "Ydbm1SEUFvOh",
    "outputId": "cff6b35e-f7d5-4d90-f778-2e8c8d1439d1"
   },
   "outputs": [
    {
     "name": "stdout",
     "output_type": "stream",
     "text": [
      "Found 251 files belonging to 3 classes.\n",
      "Found 66 files belonging to 3 classes.\n"
     ]
    }
   ],
   "source": [
    "train_ds = keras.utils.image_dataset_from_directory(\n",
    "    directory = '/content/Covid19-dataset/train',\n",
    "    labels='inferred',\n",
    "    label_mode = 'categorical',\n",
    "    batch_size=32,\n",
    "    image_size=(256,256) \n",
    ")\n",
    "\n",
    "validation_ds = keras.utils.image_dataset_from_directory(\n",
    "    directory = '/content/Covid19-dataset/test',\n",
    "    labels='inferred',\n",
    "    label_mode = 'categorical',\n",
    "    batch_size=32,\n",
    "    image_size=(256,256)\n",
    ")"
   ]
  },
  {
   "cell_type": "code",
   "execution_count": 29,
   "metadata": {
    "id": "w8AtMQYaGJhz"
   },
   "outputs": [],
   "source": [
    "def process(image,label):\n",
    "    image = tf.cast(image/255. ,tf.float32)\n",
    "    return image,label\n",
    "\n",
    "train_ds = train_ds.map(process)\n",
    "validation_ds = validation_ds.map(process)"
   ]
  },
  {
   "cell_type": "code",
   "execution_count": 30,
   "metadata": {
    "id": "e8BHdmrRHhRN"
   },
   "outputs": [],
   "source": [
    "from keras.layers import Dense,Conv2D,MaxPooling2D,Flatten,BatchNormalization,Dropout\n",
    "model = Sequential()\n",
    "\n",
    "model.add(Conv2D(128,kernel_size=(3,3),padding='valid',activation='relu',input_shape=(256,256,3)))\n",
    "model.add(BatchNormalization())\n",
    "model.add(MaxPooling2D(pool_size=(2,2),strides=2,padding='valid'))\n",
    "\n",
    "model.add(Conv2D(64,kernel_size=(3,3),padding='valid',activation='relu'))\n",
    "model.add(BatchNormalization())\n",
    "model.add(MaxPooling2D(pool_size=(2,2),strides=2,padding='valid'))\n",
    "\n",
    "model.add(Conv2D(32,kernel_size=(3,3),padding='valid',activation='relu'))\n",
    "model.add(BatchNormalization())\n",
    "model.add(MaxPooling2D(pool_size=(2,2),strides=2,padding='valid'))\n",
    "model.add(BatchNormalization())\n",
    "model.add(MaxPooling2D(pool_size=(2,2),strides=2,padding='valid'))\n",
    "\n",
    "\n",
    "model.add(Flatten())\n",
    "model.add(Dropout(0.3))\n",
    "model.add(Dense(3, activation=\"softmax\"))"
   ]
  },
  {
   "cell_type": "code",
   "execution_count": 31,
   "metadata": {
    "colab": {
     "base_uri": "https://localhost:8080/"
    },
    "id": "61tSp2JwH_dj",
    "outputId": "7b3cb9ee-a4a0-4780-8cf5-9d5cc45a731a"
   },
   "outputs": [
    {
     "name": "stdout",
     "output_type": "stream",
     "text": [
      "Model: \"sequential_4\"\n",
      "_________________________________________________________________\n",
      " Layer (type)                Output Shape              Param #   \n",
      "=================================================================\n",
      " conv2d_12 (Conv2D)          (None, 254, 254, 128)     3584      \n",
      "                                                                 \n",
      " batch_normalization_16 (Bat  (None, 254, 254, 128)    512       \n",
      " chNormalization)                                                \n",
      "                                                                 \n",
      " max_pooling2d_16 (MaxPoolin  (None, 127, 127, 128)    0         \n",
      " g2D)                                                            \n",
      "                                                                 \n",
      " conv2d_13 (Conv2D)          (None, 125, 125, 64)      73792     \n",
      "                                                                 \n",
      " batch_normalization_17 (Bat  (None, 125, 125, 64)     256       \n",
      " chNormalization)                                                \n",
      "                                                                 \n",
      " max_pooling2d_17 (MaxPoolin  (None, 62, 62, 64)       0         \n",
      " g2D)                                                            \n",
      "                                                                 \n",
      " conv2d_14 (Conv2D)          (None, 60, 60, 32)        18464     \n",
      "                                                                 \n",
      " batch_normalization_18 (Bat  (None, 60, 60, 32)       128       \n",
      " chNormalization)                                                \n",
      "                                                                 \n",
      " max_pooling2d_18 (MaxPoolin  (None, 30, 30, 32)       0         \n",
      " g2D)                                                            \n",
      "                                                                 \n",
      " batch_normalization_19 (Bat  (None, 30, 30, 32)       128       \n",
      " chNormalization)                                                \n",
      "                                                                 \n",
      " max_pooling2d_19 (MaxPoolin  (None, 15, 15, 32)       0         \n",
      " g2D)                                                            \n",
      "                                                                 \n",
      " flatten_4 (Flatten)         (None, 7200)              0         \n",
      "                                                                 \n",
      " dropout_2 (Dropout)         (None, 7200)              0         \n",
      "                                                                 \n",
      " dense_3 (Dense)             (None, 3)                 21603     \n",
      "                                                                 \n",
      "=================================================================\n",
      "Total params: 118,467\n",
      "Trainable params: 117,955\n",
      "Non-trainable params: 512\n",
      "_________________________________________________________________\n"
     ]
    }
   ],
   "source": [
    "model.summary()"
   ]
  },
  {
   "cell_type": "code",
   "execution_count": 32,
   "metadata": {
    "id": "vGLqxgmTIT9G"
   },
   "outputs": [],
   "source": [
    "model.compile(optimizer='adam',loss='categorical_crossentropy',metrics=['accuracy'])"
   ]
  },
  {
   "cell_type": "code",
   "execution_count": 33,
   "metadata": {
    "id": "5nAtw-j1KjQm"
   },
   "outputs": [],
   "source": [
    "from keras import callbacks\n",
    "early_stopping = callbacks.EarlyStopping(\n",
    "    min_delta=0.001, \n",
    "    patience=20, \n",
    "    restore_best_weights=True\n",
    ")"
   ]
  },
  {
   "cell_type": "code",
   "execution_count": 34,
   "metadata": {
    "colab": {
     "base_uri": "https://localhost:8080/"
    },
    "id": "jVLcv0eHIh9Q",
    "outputId": "2e24e84c-f139-496c-f81f-c8a6a340fea9"
   },
   "outputs": [
    {
     "name": "stdout",
     "output_type": "stream",
     "text": [
      "Epoch 1/50\n",
      "8/8 [==============================] - 11s 724ms/step - loss: 1.0387 - accuracy: 0.7171 - val_loss: 1.0437 - val_accuracy: 0.4394\n",
      "Epoch 2/50\n",
      "8/8 [==============================] - 5s 291ms/step - loss: 0.2541 - accuracy: 0.9283 - val_loss: 0.8682 - val_accuracy: 0.6212\n",
      "Epoch 3/50\n",
      "8/8 [==============================] - 6s 295ms/step - loss: 0.1804 - accuracy: 0.9402 - val_loss: 0.8386 - val_accuracy: 0.6364\n",
      "Epoch 4/50\n",
      "8/8 [==============================] - 5s 287ms/step - loss: 0.0522 - accuracy: 0.9761 - val_loss: 1.0002 - val_accuracy: 0.5152\n",
      "Epoch 5/50\n",
      "8/8 [==============================] - 5s 288ms/step - loss: 0.0373 - accuracy: 0.9841 - val_loss: 1.6516 - val_accuracy: 0.3939\n",
      "Epoch 6/50\n",
      "8/8 [==============================] - 5s 288ms/step - loss: 0.0185 - accuracy: 0.9920 - val_loss: 2.4328 - val_accuracy: 0.3939\n",
      "Epoch 7/50\n",
      "8/8 [==============================] - 6s 397ms/step - loss: 0.0110 - accuracy: 0.9960 - val_loss: 3.0639 - val_accuracy: 0.3939\n",
      "Epoch 8/50\n",
      "8/8 [==============================] - 5s 290ms/step - loss: 0.0063 - accuracy: 1.0000 - val_loss: 3.6011 - val_accuracy: 0.3939\n",
      "Epoch 9/50\n",
      "8/8 [==============================] - 5s 290ms/step - loss: 0.0198 - accuracy: 0.9920 - val_loss: 4.1451 - val_accuracy: 0.3939\n",
      "Epoch 10/50\n",
      "8/8 [==============================] - 5s 287ms/step - loss: 0.0093 - accuracy: 1.0000 - val_loss: 4.8211 - val_accuracy: 0.3939\n",
      "Epoch 11/50\n",
      "8/8 [==============================] - 5s 287ms/step - loss: 0.0060 - accuracy: 1.0000 - val_loss: 5.2773 - val_accuracy: 0.3939\n",
      "Epoch 12/50\n",
      "8/8 [==============================] - 5s 289ms/step - loss: 0.0033 - accuracy: 1.0000 - val_loss: 5.5785 - val_accuracy: 0.3939\n",
      "Epoch 13/50\n",
      "8/8 [==============================] - 5s 288ms/step - loss: 0.0081 - accuracy: 0.9960 - val_loss: 5.8324 - val_accuracy: 0.3939\n",
      "Epoch 14/50\n",
      "8/8 [==============================] - 5s 289ms/step - loss: 0.0040 - accuracy: 1.0000 - val_loss: 6.0227 - val_accuracy: 0.3939\n",
      "Epoch 15/50\n",
      "8/8 [==============================] - 5s 291ms/step - loss: 0.0033 - accuracy: 1.0000 - val_loss: 6.3457 - val_accuracy: 0.3939\n",
      "Epoch 16/50\n",
      "8/8 [==============================] - 5s 289ms/step - loss: 0.0023 - accuracy: 1.0000 - val_loss: 6.6025 - val_accuracy: 0.3939\n",
      "Epoch 17/50\n",
      "8/8 [==============================] - 5s 289ms/step - loss: 7.1043e-04 - accuracy: 1.0000 - val_loss: 6.8006 - val_accuracy: 0.3939\n",
      "Epoch 18/50\n",
      "8/8 [==============================] - 5s 287ms/step - loss: 0.0016 - accuracy: 1.0000 - val_loss: 6.9571 - val_accuracy: 0.3939\n",
      "Epoch 19/50\n",
      "8/8 [==============================] - 5s 289ms/step - loss: 0.0013 - accuracy: 1.0000 - val_loss: 7.0558 - val_accuracy: 0.3939\n",
      "Epoch 20/50\n",
      "8/8 [==============================] - 5s 291ms/step - loss: 0.0030 - accuracy: 1.0000 - val_loss: 7.3418 - val_accuracy: 0.3939\n",
      "Epoch 21/50\n",
      "8/8 [==============================] - 5s 289ms/step - loss: 0.0014 - accuracy: 1.0000 - val_loss: 7.5362 - val_accuracy: 0.3939\n",
      "Epoch 22/50\n",
      "8/8 [==============================] - 5s 291ms/step - loss: 0.0012 - accuracy: 1.0000 - val_loss: 7.6040 - val_accuracy: 0.3939\n",
      "Epoch 23/50\n",
      "8/8 [==============================] - 5s 294ms/step - loss: 0.0015 - accuracy: 1.0000 - val_loss: 7.5844 - val_accuracy: 0.3939\n"
     ]
    }
   ],
   "source": [
    "history = model.fit(train_ds,epochs=50,callbacks=[early_stopping],validation_data=validation_ds)"
   ]
  },
  {
   "cell_type": "code",
   "execution_count": 36,
   "metadata": {
    "colab": {
     "base_uri": "https://localhost:8080/",
     "height": 265
    },
    "id": "AKLkq3G-IlGD",
    "outputId": "6922271a-0ff4-4166-d471-ccbd8f7ff275"
   },
   "outputs": [
    {
     "data": {
      "image/png": "[encoded data removed]",
      "text/plain": [
       "<Figure size 432x288 with 1 Axes>"
      ]
     },
     "metadata": {
      "needs_background": "light"
     },
     "output_type": "display_data"
    }
   ],
   "source": [
    "import matplotlib.pyplot as plt\n",
    "\n",
    "plt.plot(history.history['accuracy'],color='red',label='train')\n",
    "plt.plot(history.history['val_accuracy'],color='blue',label='validation')\n",
    "plt.legend()\n",
    "plt.show()"
   ]
  },
  {
   "cell_type": "code",
   "execution_count": 37,
   "metadata": {
    "colab": {
     "base_uri": "https://localhost:8080/",
     "height": 265
    },
    "id": "JSs7jSF2Jr7y",
    "outputId": "8b49dcd9-3873-41b5-a184-a9fa324d7948"
   },
   "outputs": [
    {
     "data": {
      "image/png": "[encoded data removed]",
      "text/plain": [
       "<Figure size 432x288 with 1 Axes>"
      ]
     },
     "metadata": {
      "needs_background": "light"
     },
     "output_type": "display_data"
    }
   ],
   "source": [
    "plt.plot(history.history['loss'],color='red',label='train')\n",
    "plt.plot(history.history['val_loss'],color='blue',label='validation')\n",
    "plt.legend()\n",
    "plt.show()"
   ]
  },
  {
   "cell_type": "code",
   "execution_count": null,
   "metadata": {
    "colab": {
     "base_uri": "https://localhost:8080/"
    },
    "id": "I70XzRK6NR1A",
    "outputId": "3ff427a1-41e8-43ce-cbaa-88243c0e8b34"
   },
   "outputs": [
    {
     "data": {
      "text/plain": [
       "(659, 651, 3)"
      ]
     },
     "execution_count": 36,
     "metadata": {},
     "output_type": "execute_result"
    }
   ],
   "source": [
    "test_img.shape"
   ]
  },
  {
   "cell_type": "code",
   "execution_count": null,
   "metadata": {
    "id": "zQITb51kNVQ0"
   },
   "outputs": [],
   "source": [
    "test_img_scale=cv2.resize(test_img,(256,256))"
   ]
  },
  {
   "cell_type": "code",
   "execution_count": null,
   "metadata": {
    "colab": {
     "base_uri": "https://localhost:8080/",
     "height": 286
    },
    "id": "Iz_RyvsONZOi",
    "outputId": "a2cc8588-2ebd-4d23-d3bf-f01b670e47de"
   },
   "outputs": [
    {
     "data": {
      "text/plain": [
       "<matplotlib.image.AxesImage at 0x7faf0c3c58e0>"
      ]
     },
     "execution_count": 38,
     "metadata": {},
     "output_type": "execute_result"
    },
    {
     "data": {
      "image/png": "[encoded data removed]",
      "text/plain": [
       "<Figure size 432x288 with 1 Axes>"
      ]
     },
     "metadata": {
      "needs_background": "light"
     },
     "output_type": "display_data"
    }
   ],
   "source": [
    "plt.imshow(test_img_scale)"
   ]
  },
  {
   "cell_type": "code",
   "execution_count": null,
   "metadata": {
    "id": "XN741hW-Nd2g"
   },
   "outputs": [],
   "source": [
    "test_input=test_img_scale.reshape((1,256,256,3))"
   ]
  },
  {
   "cell_type": "code",
   "execution_count": null,
   "metadata": {
    "colab": {
     "base_uri": "https://localhost:8080/"
    },
    "id": "xLzGfosQNp0U",
    "outputId": "dd73f2ce-52c1-4a69-8dd5-2ddf958adaa9"
   },
   "outputs": [
    {
     "name": "stdout",
     "output_type": "stream",
     "text": [
      "1/1 [==============================] - 0s 17ms/step\n"
     ]
    },
    {
     "data": {
      "text/plain": [
       "array([[0., 1., 0.]], dtype=float32)"
      ]
     },
     "execution_count": 40,
     "metadata": {},
     "output_type": "execute_result"
    }
   ],
   "source": [
    "model.predict(test_input) "
   ]
  },
  {
   "cell_type": "code",
   "execution_count": null,
   "metadata": {
    "colab": {
     "base_uri": "https://localhost:8080/"
    },
    "id": "RIN6x9vLNqex",
    "outputId": "70529bf5-87e5-4c45-a7a9-5b9ac6ffc9df"
   },
   "outputs": [
    {
     "name": "stdout",
     "output_type": "stream",
     "text": [
      "1/1 [==============================] - 0s 14ms/step\n"
     ]
    },
    {
     "data": {
      "text/plain": [
       "1"
      ]
     },
     "execution_count": 41,
     "metadata": {},
     "output_type": "execute_result"
    }
   ],
   "source": [
    "np.argmax(model.predict(test_input)) "
   ]
  },
  {
   "cell_type": "code",
   "execution_count": null,
   "metadata": {
    "id": "DebdgQRiNvXX"
   },
   "outputs": [],
   "source": []
  }
 ],
 "metadata": {
  "accelerator": "GPU",
  "colab": {
   "provenance": []
  },
  "gpuClass": "standard",
  "kernelspec": {
   "display_name": "Python 3 (ipykernel)",
   "language": "python",
   "name": "python3"
  },
  "language_info": {
   "codemirror_mode": {
    "name": "ipython",
    "version": 3
   },
   "file_extension": ".py",
   "mimetype": "text/x-python",
   "name": "python",
   "nbconvert_exporter": "python",
   "pygments_lexer": "ipython3",
   "version": "3.10.4"
  }
 },
 "nbformat": 4,
 "nbformat_minor": 1
}
